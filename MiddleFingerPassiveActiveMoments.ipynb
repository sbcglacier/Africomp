{
 "cells": [
  {
   "cell_type": "markdown",
   "id": "5388a2e7-e201-43fe-b6ea-5fdf59e39160",
   "metadata": {},
   "source": [
    "# Code to determine active and passive moments for each joint given a finger dimension\n",
    "The values D (depth), L (length), B (breadth) denote the ratio used according to the CCD design with a value of 1 indicating a maximal change\n",
    "and -1 a minimum change. The mean dimensions use a value of 0."
   ]
  },
  {
   "cell_type": "code",
   "execution_count": 13,
   "id": "8937c393-1096-4cd1-a48c-b0b4d81375db",
   "metadata": {
    "tags": []
   },
   "outputs": [],
   "source": [
    "# input the measurements to depth, length and breadth\n",
    "D = 0\n",
    "L = 0\n",
    "B = 0\n",
    "\n",
    "x1 = D\n",
    "x2 = L\n",
    "x3 = B"
   ]
  },
  {
   "cell_type": "markdown",
   "id": "d7037116-39a9-4e2b-abca-cbf380387092",
   "metadata": {},
   "source": [
    "# Passive moments (AE = 0.01)"
   ]
  },
  {
   "cell_type": "code",
   "execution_count": 14,
   "id": "8a3f911d-2b05-4041-83d0-6de0c7f5656e",
   "metadata": {
    "tags": []
   },
   "outputs": [
    {
     "name": "stdout",
     "output_type": "stream",
     "text": [
      "MCP passive moment at angle of 90 deg: 0.048476\n"
     ]
    }
   ],
   "source": [
    "# middle finger passive moment at 90 degrees rotation for the MCP joint\n",
    "b0 = 0.048476\n",
    "b1 = -0.008818\n",
    "b2 = 0.006835\n",
    "b3 = 0.020887\n",
    "b4 = -0.014348\n",
    "b5 =  0.009934\n",
    "b6 = -0.001582\n",
    "b7 = -0.003365\n",
    "b8 = 0.001682\n",
    "b9 = 0.002228\n",
    "\n",
    "F3_MCP_Passive_90 = b0+b1*x1 + b2*x1**2 + b3*x2 + b4*x1*x2 + b5*x2**2 + b6*x3 + b7*x1*x3 + b8*x2*x3 + b9*x3**2\n",
    "print('MCP passive moment at angle of 90 deg:',F3_MCP_Passive_90)"
   ]
  },
  {
   "cell_type": "code",
   "execution_count": 22,
   "id": "08a3fd6c-5658-43ee-9da9-793fd1fb4725",
   "metadata": {
    "tags": []
   },
   "outputs": [
    {
     "name": "stdout",
     "output_type": "stream",
     "text": [
      "PIP passive moment at angle of 100 deg: 0.0249229\n"
     ]
    }
   ],
   "source": [
    "# middle finger passive moment at 100 degrees rotation for the PIP joint\n",
    "b0 = 0.0249229\n",
    "b1 = -0.0004156 \n",
    "b2 = 0.0061852\n",
    "b3 = -0.0001987  \n",
    "b4 = -0.0015305\n",
    "b5 = -0.0003456  \n",
    "b6 =  0.0003890\n",
    "\n",
    "F3_PIP_Passive_100 = b0 + b1*x1 + b2*x2 + b3*x3 + b4*x1*x2 + b5*x2*x3 + b6*x1*x3\n",
    "print('PIP passive moment at angle of 100 deg:',F3_PIP_Passive_100)"
   ]
  },
  {
   "cell_type": "code",
   "execution_count": 20,
   "id": "27c36fcf-4b40-42b5-a468-1b546489307c",
   "metadata": {
    "tags": []
   },
   "outputs": [
    {
     "name": "stdout",
     "output_type": "stream",
     "text": [
      "PIP passive moment at angle of 90 deg: 0.01607\n"
     ]
    }
   ],
   "source": [
    "# middle finger passive moment at 90 degrees rotation for the PIP joint\n",
    "b0 = 1.607e-02 \n",
    "b1 = 3.588e-03  \n",
    "b2 = 5.000e-05 \n",
    "b3 = 2.169e-02 \n",
    "b4 = -3.333e-05\n",
    "b5 = -1.958e-19 \n",
    "b6 = 1.000e-04 \n",
    "b7 = -3.619e-05   \n",
    "b8 =  7.215e-19   \n",
    "b9 = 1.500e-04   \n",
    "\n",
    "F3_PIP_Passive_90 = b0+b1*x1 + b2*x1**2 + b3*x2 + b4*x1*x2 + b5*x2**2 + b6*x3 + b7*x1*x3 + b8*x2*x3 + b9*x3**2\n",
    "print('PIP passive moment at angle of 90 deg:',F3_PIP_Passive_90)"
   ]
  },
  {
   "cell_type": "code",
   "execution_count": 5,
   "id": "8552f54e-7374-4131-815e-ae2812a80f2f",
   "metadata": {
    "tags": []
   },
   "outputs": [
    {
     "name": "stdout",
     "output_type": "stream",
     "text": [
      "DIP passive 80 rot: 0.0037990600000000004\n"
     ]
    }
   ],
   "source": [
    "# middle finger passive moment at 80 degrees rotation for the DIP joint\n",
    "b0 = 3.017e-03 \n",
    "b1 =2.503e-04  \n",
    "b2 = -1.140e-04\n",
    "b3 = 7.046e-04\n",
    "b4 =-2.041e-04  \n",
    "b5 =-5.812e-05  \n",
    "b6 =7.315e-05  \n",
    "b7 = 8.759e-05  \n",
    "b8 = 9.234e-05  \n",
    "b9 =-4.970e-05  \n",
    "\n",
    "F3_DIP_Passive_80 = b0+b1*x1 + b2*x1**2 + b3*x2 + b4*x1*x2 + b5*x2**2 + b6*x3 + b7*x1*x3 + b8*x2*x3 + b9*x3**2\n",
    "print('DIP passive moment at angle of 80 deg:',F3_DIP_Passive_80)"
   ]
  },
  {
   "cell_type": "markdown",
   "id": "00c49745-433e-44ae-8a9e-034f30a7f4f8",
   "metadata": {},
   "source": [
    "# Active moments (AE = 1)"
   ]
  },
  {
   "cell_type": "code",
   "execution_count": 24,
   "id": "4494da59-f84a-4ccf-814c-177248ea0fde",
   "metadata": {
    "tags": []
   },
   "outputs": [
    {
     "name": "stdout",
     "output_type": "stream",
     "text": [
      "MCP active moment at angle of 90 deg: 5.289303\n"
     ]
    }
   ],
   "source": [
    "# middle finger active moment at 90 degrees rotation for the MCP joint\n",
    "b0 =5.289303\n",
    "b1 =1.115606  \n",
    "b2 =-0.487373\n",
    "b3 = -0.878263 \n",
    "b4 =1.181740  \n",
    "b5 = -0.728979  \n",
    "b6 = -0.002225  \n",
    "b7 =-0.001002  \n",
    "b8 = 0.001994  \n",
    "b9 = -0.052444  \n",
    "F3_MCP_Active_90 = b0+b1*x1 + b2*x1**2 + b3*x2 + b4*x1*x2 + b5*x2**2 + b6*x3 + b7*x1*x3 + b8*x2*x3 + b9*x3**2\n",
    "print('MCP active moment at angle of 90 deg:',F3_MCP_Active_90)"
   ]
  },
  {
   "cell_type": "code",
   "execution_count": 23,
   "id": "47f92961-028b-41ef-8755-4bc867153a0a",
   "metadata": {
    "tags": []
   },
   "outputs": [
    {
     "name": "stdout",
     "output_type": "stream",
     "text": [
      "PIP active moment at angle of 100 deg: 4.02138\n"
     ]
    }
   ],
   "source": [
    "# middle finger active moment at 100 degrees rotation for the PIP joint\n",
    "b0= 4.02138 \n",
    "b1= 0.28529  \n",
    "b2= -0.05879  \n",
    "b3=-0.11040 \n",
    "b4=0.15136  \n",
    "b5= -0.10779  \n",
    "b6=0.02158  \n",
    "b7= -0.03560  \n",
    "b8= 0.03345  \n",
    "b9= -0.04747  \n",
    "F3_PIP_Active_100 = b0+b1*x1 + b2*x1**2 + b3*x2 + b4*x1*x2 + b5*x2**2 + b6*x3 + b7*x1*x3 + b8*x2*x3 + b9*x3**2\n",
    "print('PIP active moment at angle of 100 deg:',F3_PIP_Active_100)"
   ]
  },
  {
   "cell_type": "code",
   "execution_count": null,
   "id": "bc7a5f0f-edbe-41c8-ab49-e92243a5417a",
   "metadata": {},
   "outputs": [],
   "source": [
    "# middle finger active moment at 80 degrees rotation for the DIP joint\n",
    "b0 = 1.23452\n",
    "b1 = -0.01339  \n",
    "b2 =  0.08859\n",
    "b3 = 0.01930  \n",
    "b4 =  -0.04497 \n",
    "b5 = 0.04709  \n",
    "b6 =   0.04649 \n",
    "\n",
    "F3_DIP_Active_80 = b0 + b1*x1 + b2*x2 + b3*x3 + b4*x1*x2 + b5*x2*x3 + b6*x1*x3\n",
    "print('DIP active moment at angle of 80 deg:',F3_DIP_Active_80)"
   ]
  }
 ],
 "metadata": {
  "kernelspec": {
   "display_name": "Python 3 (ipykernel)",
   "language": "python",
   "name": "python3"
  },
  "language_info": {
   "codemirror_mode": {
    "name": "ipython",
    "version": 3
   },
   "file_extension": ".py",
   "mimetype": "text/x-python",
   "name": "python",
   "nbconvert_exporter": "python",
   "pygments_lexer": "ipython3",
   "version": "3.11.3"
  }
 },
 "nbformat": 4,
 "nbformat_minor": 5
}
