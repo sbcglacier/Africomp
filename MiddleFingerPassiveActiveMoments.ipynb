{
 "cells": [
  {
   "cell_type": "markdown",
   "id": "5388a2e7-e201-43fe-b6ea-5fdf59e39160",
   "metadata": {},
   "source": [
    "# Code to determine active and passive moments for each joint given a finger dimension\n",
    "The values D (depth), L (length), B (breadth) denote the ratio used according to the CCD design with a value of 1 indicating a maximal change\n",
    "and -1 a minimum change. The mean dimensions use a value of 0."
   ]
  },
  {
   "cell_type": "code",
   "execution_count": 2,
   "id": "8937c393-1096-4cd1-a48c-b0b4d81375db",
   "metadata": {
    "tags": []
   },
   "outputs": [],
   "source": [
    "# input the measurements to depth, length and breadth\n",
    "D = 1\n",
    "L = 1\n",
    "B = 1\n",
    "\n",
    "x1 = D\n",
    "x2 = L\n",
    "x3 = B"
   ]
  },
  {
   "cell_type": "code",
   "execution_count": 7,
   "id": "8a3f911d-2b05-4041-83d0-6de0c7f5656e",
   "metadata": {
    "tags": []
   },
   "outputs": [
    {
     "name": "stdout",
     "output_type": "stream",
     "text": [
      "MCP passive moment at angle of 90 deg: 0.061929\n"
     ]
    }
   ],
   "source": [
    "# middle finger passive moment at 90 degrees rotation for the MCP joint\n",
    "b0 = 0.048476\n",
    "b1 = -0.008818\n",
    "b2 = 0.006835\n",
    "b3 = 0.020887\n",
    "b4 = -0.014348\n",
    "b5 =  0.009934\n",
    "b6 = -0.001582\n",
    "b7 = -0.003365\n",
    "b8 = 0.001682\n",
    "b9 = 0.002228\n",
    "\n",
    "F3_MCP_Passive_90 = b0+b1*x1 + b2*x1**2 + b3*x2 + b4*x1*x2 + b5*x2**2 + b6*x3 + b7*x1*x3 + b8*x2*x3 + b9*x3**2\n",
    "print('MCP passive moment at angle of 90 deg:',F3_MCP_Passive_90)"
   ]
  },
  {
   "cell_type": "code",
   "execution_count": 4,
   "id": "08a3fd6c-5658-43ee-9da9-793fd1fb4725",
   "metadata": {
    "tags": []
   },
   "outputs": [
    {
     "name": "stdout",
     "output_type": "stream",
     "text": [
      "PIP passive 100 rot: 0.061676105000000016\n"
     ]
    }
   ],
   "source": [
    "# middle finger passive moment at 100 degrees rotation for the PIP joint\n",
    "b0 = 0.0249229\n",
    "b1 = -0.0004156 \n",
    "b2 = 0.0061852\n",
    "b3 = -0.0001987  \n",
    "b4 = -0.0015305\n",
    "b5 = -0.0003456  \n",
    "b6 =  0.0003890\n",
    "\n",
    "F3_PIP_Passive_100 = b0 + b1*x1 + b2*x2 + b3*x3 + b4*x1*x2 + b5*x2*x3 + b6*x1*x3\n",
    "print('PIP passive moment at angle of 100 deg:',F3_PIP_Passive_100)"
   ]
  },
  {
   "cell_type": "code",
   "execution_count": null,
   "id": "27c36fcf-4b40-42b5-a468-1b546489307c",
   "metadata": {},
   "outputs": [],
   "source": [
    "# middle finger passive moment at 90 degrees rotation for the PIP joint\n",
    "b0 = 1.607e-02 \n",
    "b1 = 3.588e-03  \n",
    "b2 = 5.000e-05 \n",
    "b3 = 2.169e-02 \n",
    "b4 = -3.333e-05\n",
    "b5 = -1.958e-19 \n",
    "b6 = 1.000e-04 \n",
    "b7 = -3.619e-05   \n",
    "b8 =  7.215e-19   \n",
    "b9 = 1.500e-04   \n",
    "\n",
    "F3_PIP_Passive_90 = b0+b1*x1 + b2*x1**2 + b3*x2 + b4*x1*x2 + b5*x2**2 + b6*x3 + b7*x1*x3 + b8*x2*x3 + b9*x3**2\n",
    "print('PIP passive moment at angle of 90 deg:',F3_PIP_Passive_90)"
   ]
  },
  {
   "cell_type": "code",
   "execution_count": 5,
   "id": "8552f54e-7374-4131-815e-ae2812a80f2f",
   "metadata": {
    "tags": []
   },
   "outputs": [
    {
     "name": "stdout",
     "output_type": "stream",
     "text": [
      "DIP passive 80 rot: 0.0037990600000000004\n"
     ]
    }
   ],
   "source": [
    "# middle finger passive moment at 80 degrees rotation for the DIP joint\n",
    "b0 = 3.017e-03 \n",
    "b1 =2.503e-04  \n",
    "b2 = -1.140e-04\n",
    "b3 = 7.046e-04\n",
    "b4 =-2.041e-04  \n",
    "b5 =-5.812e-05  \n",
    "b6 =7.315e-05  \n",
    "b7 = 8.759e-05  \n",
    "b8 = 9.234e-05  \n",
    "b9 =-4.970e-05  \n",
    "\n",
    "F3_DIP_Passive_80 = b0+b1*x1 + b2*x1**2 + b3*x2 + b4*x1*x2 + b5*x2**2 + b6*x3 + b7*x1*x3 + b8*x2*x3 + b9*x3**2\n",
    "print('DIP passive moment at angle of 80 deg:',F3_DIP_Passive_80)"
   ]
  },
  {
   "cell_type": "code",
   "execution_count": null,
   "id": "4494da59-f84a-4ccf-814c-177248ea0fde",
   "metadata": {},
   "outputs": [],
   "source": [
    "b0 =5.289303\n",
    "b1 =1.115606  \n",
    "b2 =-0.487373\n",
    "b3 = -0.878263 \n",
    "b4 =1.181740  \n",
    "b5 = -0.728979  \n",
    "b6 = -0.002225  \n",
    "b7 =-0.001002  \n",
    "b8 = 0.001994  \n",
    "b9 = -0.052444  \n",
    "F3_MCP_Active_90 = b0+b1*x1 + b2*x1**2 + b3*x2 + b4*x1*x2 + b5*x2**2 + b6*x3 + b7*x1*x3 + b8*x2*x3 + b9*x3**2\n",
    "print('MCP active moment at angle of 90 deg:',F3_MCP_Active_90)"
   ]
  }
 ],
 "metadata": {
  "kernelspec": {
   "display_name": "Python 3 (ipykernel)",
   "language": "python",
   "name": "python3"
  },
  "language_info": {
   "codemirror_mode": {
    "name": "ipython",
    "version": 3
   },
   "file_extension": ".py",
   "mimetype": "text/x-python",
   "name": "python",
   "nbconvert_exporter": "python",
   "pygments_lexer": "ipython3",
   "version": "3.11.3"
  }
 },
 "nbformat": 4,
 "nbformat_minor": 5
}
