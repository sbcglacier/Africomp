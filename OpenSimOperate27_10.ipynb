{
 "cells": [
  {
   "cell_type": "markdown",
   "id": "74d53d02",
   "metadata": {},
   "source": [
    "# Look for ModelScaler.xml; movement.sto"
   ]
  },
  {
   "cell_type": "code",
   "execution_count": 1,
   "id": "4882872e",
   "metadata": {},
   "outputs": [],
   "source": [
    "mcp_rot = 10\n",
    "pip_rot = 25\n",
    "dip_rot = 15\n",
    "time_sim = 4\n",
    "\n",
    "dip_scale =  26.5/ 20.4 #18\n",
    "pip_scale =  30.5/ 28.06 #26\n",
    "mcp_scale = 51/ 44.22 #32\n",
    "#getting directory file\n",
    "file1 = open(r'C:\\Users\\SBCgl\\Documents\\PhD\\dir.txt',\"r\")\n",
    "s_dir = file1.read()\n",
    "file1.close()\n",
    "\n",
    "#-------------------create files\n",
    "with open(s_dir + r\"Values/mcp_rot.txt\", 'w') as f:\n",
    "    f.write(str(mcp_rot))\n",
    "    f.close()\n",
    "with open(s_dir + r\"Values/pip_rot.txt\", 'w') as f:\n",
    "    f.write(str(pip_rot))\n",
    "    f.close()\n",
    "with open(s_dir + r\"Values/dip_rot.txt\", 'w') as f:\n",
    "    f.write(str(dip_rot))\n",
    "    f.close()\n",
    "with open(s_dir + r\"Values/time_sim.txt\", 'w') as f:\n",
    "    f.write(str(time_sim))\n",
    "    f.close()\n",
    "with open(s_dir + r\"Values/mcp_scale.txt\", 'w') as f:\n",
    "    f.write(str(mcp_scale))\n",
    "    f.close()\n",
    "with open(s_dir + r\"Values/pip_scale.txt\", 'w') as f:\n",
    "    f.write(str(pip_scale))\n",
    "    f.close()\n",
    "with open(s_dir + r\"Values/dip_scale.txt\", 'w') as f:\n",
    "    f.write(str(dip_scale))\n",
    "    f.close()\n",
    "#-------------------------------"
   ]
  },
  {
   "cell_type": "code",
   "execution_count": 2,
   "id": "6f6356ab",
   "metadata": {},
   "outputs": [
    {
     "name": "stdout",
     "output_type": "stream",
     "text": [
      "218\n"
     ]
    }
   ],
   "source": [
    "%run OpenSim_TendonGliding27_10.ipynb\n",
    "%run OpenSim_ScaleModel27_10.ipynb"
   ]
  },
  {
   "cell_type": "markdown",
   "id": "ebe19c31",
   "metadata": {},
   "source": [
    "# Matlab"
   ]
  },
  {
   "cell_type": "code",
   "execution_count": null,
   "id": "438b4f2f",
   "metadata": {},
   "outputs": [],
   "source": [
    "# # run following matlab code to plot:\n",
    "\n",
    "# figure(3)\n",
    "# y1 = linspace(0,90,100)%linspace(0,0,100)\n",
    "# y2 = linspace(0,110,100)%linspace(0,110,100)\n",
    "# y3 = linspace(0,80,100)%linspace(0,80,100)\n",
    "# x = linspace(0,100,100)\n",
    "# hold on;\n",
    "# plot(x,y1,'color','r','linewidth', 2)\n",
    "# grid on;\n",
    "# plot(x,y2,'color','b','linewidth',2)\n",
    "# plot(x,y3,'color','g','linewidth',2)\n",
    "# title(\"Motion profile for selected Tending Gliding exercise\",'fontsize',15)\n",
    "# xlabel('normalized time (% motion completed)','fontweight','bold','fontsize',12)\n",
    "# legend('MCP','PIP','DIP','location','northwest')\n",
    "# ylabel('Flexion angle (^\\circ)','fontweight','bold','fontsize',12)\n",
    "# y1 = linspace(0,0,100)\n",
    "# y2 = y1;\n",
    "# yticks([0:10:120])"
   ]
  },
  {
   "cell_type": "code",
   "execution_count": null,
   "id": "1826dd09",
   "metadata": {},
   "outputs": [],
   "source": []
  }
 ],
 "metadata": {
  "kernelspec": {
   "display_name": "Python 3 (ipykernel)",
   "language": "python",
   "name": "python3"
  },
  "language_info": {
   "codemirror_mode": {
    "name": "ipython",
    "version": 3
   },
   "file_extension": ".py",
   "mimetype": "text/x-python",
   "name": "python",
   "nbconvert_exporter": "python",
   "pygments_lexer": "ipython3",
   "version": "3.9.12"
  }
 },
 "nbformat": 4,
 "nbformat_minor": 5
}
